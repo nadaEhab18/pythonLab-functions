{
  "cells": [
    {
      "cell_type": "code",
      "execution_count": 1,
      "metadata": {
        "colab": {
          "base_uri": "https://localhost:8080/"
        },
        "id": "zX3ic0zc6D4U",
        "outputId": "285d9957-cf0a-4944-808d-aea1ae280f35"
      },
      "outputs": [
        {
          "name": "stdout",
          "output_type": "stream",
          "text": [
            "Hello\n"
          ]
        }
      ],
      "source": [
        "def greetUser():\n",
        "  \"\"\"Display a simple greet\"\"\"\n",
        "  print('Hello')\n",
        "\n",
        "greetUser()"
      ]
    },
    {
      "cell_type": "code",
      "execution_count": 7,
      "metadata": {
        "id": "2Np_MNRi9EiO"
      },
      "outputs": [],
      "source": [
        "def favBook(title):\n",
        "  print(f\"one of my fav book is \",title.title())"
      ]
    },
    {
      "cell_type": "code",
      "execution_count": 8,
      "metadata": {
        "colab": {
          "base_uri": "https://localhost:8080/"
        },
        "id": "Oj6RZ7mK9Xe5",
        "outputId": "fd86729d-89be-4666-db2b-eb1154238050"
      },
      "outputs": [
        {
          "name": "stdout",
          "output_type": "stream",
          "text": [
            "one of my fav book is  Loool\n"
          ]
        }
      ],
      "source": [
        "favBook('Loool')"
      ]
    },
    {
      "cell_type": "code",
      "execution_count": 12,
      "metadata": {
        "colab": {
          "base_uri": "https://localhost:8080/"
        },
        "id": "v9dJNdEpJlDm",
        "outputId": "b4d0cd9a-f194-4099-ee88-65ac1367aeb3"
      },
      "outputs": [
        {
          "name": "stdout",
          "output_type": "stream",
          "text": [
            "1\n",
            "1\n"
          ]
        }
      ],
      "source": [
        "def absNum(num):\n",
        "    if (num<0):\n",
        "        return num *-1\n",
        "    else:\n",
        "        return num\n",
        "\n",
        "\n",
        "print(absNum(1) )\n",
        "print(absNum(-1) )"
      ]
    },
    {
      "cell_type": "code",
      "execution_count": 17,
      "metadata": {
        "colab": {
          "base_uri": "https://localhost:8080/"
        },
        "id": "mC7LaiLIMvMb",
        "outputId": "a5b0bab5-66e5-4e33-f4ff-8ed8bb639b8f"
      },
      "outputs": [
        {
          "data": {
            "text/plain": [
              "3.0"
            ]
          },
          "execution_count": 17,
          "metadata": {},
          "output_type": "execute_result"
        }
      ],
      "source": [
        "def mean_Cala(n1 ,n2 , n3):\n",
        "  \"\"\"Display Average of three numbers\"\"\"\n",
        "  return (n1 + n2 + n3) /3\n",
        "\n",
        "mean_Cala(1,3,5)"
      ]
    },
    {
      "cell_type": "code",
      "execution_count": 31,
      "metadata": {
        "colab": {
          "base_uri": "https://localhost:8080/"
        },
        "id": "lNiFjNazfT-K",
        "outputId": "c85676a4-db13-4a5e-9921-d2e6b73b26d2"
      },
      "outputs": [
        {
          "name": "stdout",
          "output_type": "stream",
          "text": [
            "triangle(6):\n",
            "#\n",
            "##\n",
            "###\n",
            "####\n",
            "#####\n",
            "######\n",
            "\n",
            "triangle(3):\n",
            "#\n",
            "##\n",
            "###\n"
          ]
        }
      ],
      "source": [
        "def triangle(num):\n",
        "    \"\"\"function triangle to draw a triangle of hashes\"\"\"\n",
        "    i = 1\n",
        "    while (i <= num):\n",
        "        print('#' * i)\n",
        "        i +=1\n",
        "\n",
        "print(\"triangle(6):\")\n",
        "triangle(6)\n",
        "\n",
        "print(\"\\ntriangle(3):\")\n",
        "triangle(3)"
      ]
    },
    {
      "cell_type": "code",
      "execution_count": 64,
      "metadata": {
        "colab": {
          "base_uri": "https://localhost:8080/"
        },
        "id": "7b2vFm5cfUAQ",
        "outputId": "c2c5581b-fde4-4a9a-9565-39ac66e2a33e"
      },
      "outputs": [
        {
          "name": "stdout",
          "output_type": "stream",
          "text": [
            "greatest_number(3, 4, 1): 5\n",
            "greatest_number(4, 4, 4): 4\n",
            "greatest_number(5, 3, 7): 7\n",
            "\n",
            "****************************\n",
            "greatest_number_v2(3, 4, 1): 5\n",
            "greatest_number_v2(4, 4, 4): 4\n",
            "greatest_number_v2(5, 3, 7): 7\n"
          ]
        }
      ],
      "source": [
        "def greatest_number(num1,num2 ,num3):\n",
        "    \"\"\"function returns the greatest in value of the three.\"\"\"\n",
        "    if(num1 >= num2 and num1 >= num3):\n",
        "      max = num1\n",
        "    elif(num2 >= num1 and num2 >= num3):\n",
        "      max = num2\n",
        "    else:\n",
        "      max = num3\n",
        "\n",
        "    return max\n",
        "\n",
        "# Example usage:\n",
        "print(\"greatest_number(3, 4, 1):\", greatest_number(3, 5, 1))\n",
        "print(\"greatest_number(4, 4, 4):\", greatest_number(4, 4, 4))\n",
        "print(\"greatest_number(5, 3, 7):\", greatest_number(5, 3, 7))\n",
        "\n",
        "print(\"\\n****************************\")\n",
        "############### Another Solution #######################\n",
        "def greatest_number_v2(num1, num2, num3):\n",
        "    greatest = num1\n",
        "    if num2 > greatest:\n",
        "        greatest = num2\n",
        "    if num3 > greatest:\n",
        "        greatest = num3\n",
        "    return greatest\n",
        "\n",
        "print(\"greatest_number_v2(3, 4, 1):\", greatest_number(3, 5, 1))\n",
        "print(\"greatest_number_v2(4, 4, 4):\", greatest_number(4, 4, 4))\n",
        "print(\"greatest_number_v2(5, 3, 7):\", greatest_number(5, 3, 7))\n",
        "\n",
        "\n",
        "\n",
        "\n",
        "\n"
      ]
    },
    {
      "cell_type": "code",
      "execution_count": 70,
      "metadata": {
        "colab": {
          "base_uri": "https://localhost:8080/"
        },
        "id": "7EB0e60hfUC1",
        "outputId": "f3c7cab4-41dc-4d25-f597-9076dd53644b"
      },
      "outputs": [
        {
          "name": "stdout",
          "output_type": "stream",
          "text": [
            "Corrected version results:\n",
            "sum_series(3): 2\n",
            "sum_series(5): 3\n",
            "sum_series(8): -4\n"
          ]
        }
      ],
      "source": [
        "def sum_series(n):\n",
        "    \"\"\"Function that calculates the sum of the series: 1 - 2 + 3 - 4 + 5 - ... up to n\"\"\"\n",
        "    sum = 0\n",
        "    i = 1\n",
        "    while(i <= n):\n",
        "        if i % 2 == 1:\n",
        "            sum += i\n",
        "        else:\n",
        "            sum -= i\n",
        "        i += 1\n",
        "    return sum\n",
        "\n",
        "\n",
        "\n",
        "\n",
        "print(\"Corrected version results:\")\n",
        "print(f\"sum_series(3): {sum_series(3)}\")\n",
        "print(f\"sum_series(5): {sum_series(5)}\")\n",
        "print(f\"sum_series(8): {sum_series(8)}\")"
      ]
    },
    {
      "cell_type": "code",
      "execution_count": 44,
      "metadata": {
        "colab": {
          "base_uri": "https://localhost:8080/"
        },
        "id": "mqIJbpoFfUFm",
        "outputId": "3631e0b3-c71c-4aef-e5e4-f1b7657a45de"
      },
      "outputs": [
        {
          "name": "stdout",
          "output_type": "stream",
          "text": [
            "factorial(5): 120\n",
            "factorial(0): 1\n"
          ]
        }
      ],
      "source": [
        "def factorial(num):\n",
        "  \"\"\"Function calculate the factorial of a number\"\"\"\n",
        "    fact = 1\n",
        "    while (num > 1) :\n",
        "        fact *= num\n",
        "        num -=1\n",
        "    return fact\n",
        "\n",
        "print(\"factorial(5):\", factorial(5))\n",
        "print(\"factorial(0):\", factorial(0))\n",
        "\n"
      ]
    },
    {
      "cell_type": "code",
      "execution_count": 61,
      "metadata": {
        "colab": {
          "base_uri": "https://localhost:8080/"
        },
        "id": "Of8sYrrxfUID",
        "outputId": "1255b95c-6f69-41ad-df78-b36ba4dfbb60"
      },
      "outputs": [
        {
          "name": "stdout",
          "output_type": "stream",
          "text": [
            "The Word ('LoL') you Entered is : palindrome\n",
            "The Word ('Nada') you Entered is : Not palindrome\n"
          ]
        }
      ],
      "source": [
        "def checkWord(word):\n",
        "    \"\"\"function that checks if a given word is a palindrome (reads the same forwards and backwards)\"\"\"\n",
        "    word = word.lower()\n",
        "\n",
        "    if(word == word[::-1]):\n",
        "        return 'palindrome'\n",
        "    else:\n",
        "        return 'Not palindrome'\n",
        "print(\"The Word ('LoL') you Entered is :\",checkWord('LoL'))\n",
        "print(\"The Word ('Nada') you Entered is :\",checkWord('Nada'))\n",
        "\n"
      ]
    },
    {
      "cell_type": "code",
      "execution_count": 72,
      "metadata": {
        "colab": {
          "base_uri": "https://localhost:8080/"
        },
        "id": "QD4kFatrfUKi",
        "outputId": "b7918352-6fec-4a00-8383-75acd1705410"
      },
      "outputs": [
        {
          "name": "stdout",
          "output_type": "stream",
          "text": [
            "The Word ('LoL') you Entered is : palindrome\n",
            "The Word ('Nada') you Entered is : Not palindrome\n"
          ]
        }
      ],
      "source": [
        "def checkWord(word):\n",
        "  \"\"\"function that checks if a given word is a palindrome (reads the same forwards and backwards)\"\"\"\n",
        "  word_in_lower = word.lower()\n",
        "  word_reversed = ''\n",
        "  for char in word_in_lower:\n",
        "    word_reversed = char + word_reversed\n",
        "\n",
        "  if(word_reversed == word_in_lower):\n",
        "    return \"palindrome\"\n",
        "  else:\n",
        "    return \"Not palindrome\"\n",
        "\n",
        "print(\"The Word ('LoL') you Entered is :\",checkWord('LoL'))\n",
        "print(\"The Word ('Nada') you Entered is :\",checkWord('Nada'))\n"
      ]
    },
    {
      "cell_type": "code",
      "execution_count": null,
      "metadata": {
        "id": "c7DM1-dJfUOC"
      },
      "outputs": [],
      "source": []
    }
  ],
  "metadata": {
    "colab": {
      "provenance": []
    },
    "kernelspec": {
      "display_name": "Python 3",
      "name": "python3"
    },
    "language_info": {
      "name": "python"
    }
  },
  "nbformat": 4,
  "nbformat_minor": 0
}
